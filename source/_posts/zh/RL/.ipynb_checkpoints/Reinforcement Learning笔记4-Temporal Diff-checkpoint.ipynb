{
 "cells": [
  {
   "cell_type": "markdown",
   "metadata": {
    "collapsed": true
   },
   "source": [
    "---\n",
    "title: Reinforcement Learning笔记4-Temporal Diff\n",
    "lang: zh\n",
    "date: 2017-11-14 18:18:56\n",
    "---"
   ]
  },
  {
   "cell_type": "markdown",
   "metadata": {},
   "source": [
    "#### Bellman最优解策略 - 时间差分法（Temporal Difference）\n",
    "\n",
    "在这里，强化学习算法可以分为在策略(on-policy)和离策略(off-policy)两类。\n",
    "\n",
    "● Q-learning属于离策略(off-policy)算法。\n",
    "\n",
    "● Sarsa属于在策略(on-policy)算法。\n",
    "\n",
    "### 1. Q-learning\n",
    "\n",
    "#### DQN（Deep Q-learning） \n",
    "\n",
    "Q-learning中因为需要下一状态的所有动作的最大Q，loss的也有个特点:网络要多前向计算一次，才能得到下一状态的所有动作的Q。\n",
    "\n",
    "也是因为这个loss的原因，等于说是把CNN用作生成Q的一个函数了。原来的质量表达Q是个矩阵，参数少，现在的用深度网络了，就叫深度质量网络（DQN），其实叫做DQ-learning更合适。\n",
    "\n",
    "### 2. Sarsa\n",
    "\n",
    "sarsa算法估计的是动作值函数(Q函数)而非状态值函数。"
   ]
  },
  {
   "cell_type": "markdown",
   "metadata": {},
   "source": [
    "\n",
    "### 参考资料（Reference）\n",
    "\n",
    "- [Dissecting Reinforcement Learning-Part.1](https://mpatacchiola.github.io/blog/2016/12/09/dissecting-reinforcement-learning.html \"Title\") \n",
    "\n",
    "- [REINFORCEMENT LEARNING PART 1: Q-LEARNING AND EXPLORATION](https://studywolf.wordpress.com/2012/11/25/reinforcement-learning-q-learning-and-exploration/ \"Title\") \n",
    "\n",
    "- [Pythonではじめる強化学習](https://qiita.com/Hironsan/items/56f6c0b2f4cfd28dd906 \"Title\") \n",
    "\n",
    "- [ゼロからDeepまで学ぶ強化学習](https://qiita.com/icoxfog417/items/242439ecd1a477ece312 \"Title\") \n",
    "\n",
    "- [强化学习知识整理](https://zhuanlan.zhihu.com/p/25319023?utm_source=tuicool&utm_medium=referral \"Title\") \n",
    "\n",
    "- [时间差分学习(Q learning,Sarsa learning)](http://www.cnblogs.com/jinxulin/p/5116332.html \"Title\") \n",
    "\n",
    "- [A Painless Q-learning Tutorial](http://mnemstudio.org/path-finding-q-learning-tutorial.htm \"Title\")\n",
    "\n",
    "- [一个 Q-learning 算法的简明教程](http://blog.csdn.net/itplus/article/details/9361915 \"Title\")"
   ]
  }
 ],
 "metadata": {
  "kernelspec": {
   "display_name": "Python 3",
   "language": "python",
   "name": "python3"
  },
  "language_info": {
   "codemirror_mode": {
    "name": "ipython",
    "version": 3
   },
   "file_extension": ".py",
   "mimetype": "text/x-python",
   "name": "python",
   "nbconvert_exporter": "python",
   "pygments_lexer": "ipython3",
   "version": "3.6.1"
  }
 },
 "nbformat": 4,
 "nbformat_minor": 2
}
